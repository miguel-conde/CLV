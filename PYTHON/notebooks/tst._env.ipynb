{
 "cells": [
  {
   "cell_type": "code",
   "execution_count": 2,
   "metadata": {},
   "outputs": [],
   "source": [
    "import libTstCLV"
   ]
  },
  {
   "cell_type": "code",
   "execution_count": 3,
   "metadata": {},
   "outputs": [
    {
     "ename": "AttributeError",
     "evalue": "module 'libTstCLV' has no attribute 'my_fun'",
     "output_type": "error",
     "traceback": [
      "\u001b[1;31m---------------------------------------------------------------------------\u001b[0m",
      "\u001b[1;31mAttributeError\u001b[0m                            Traceback (most recent call last)",
      "Cell \u001b[1;32mIn[3], line 1\u001b[0m\n\u001b[1;32m----> 1\u001b[0m libTstCLV\u001b[39m.\u001b[39;49mmy_fun(\u001b[39m2\u001b[39m, \u001b[39m3\u001b[39m)\n",
      "\u001b[1;31mAttributeError\u001b[0m: module 'libTstCLV' has no attribute 'my_fun'"
     ]
    }
   ],
   "source": [
    "libTstCLV.my_fun(2, 3)"
   ]
  },
  {
   "cell_type": "code",
   "execution_count": 4,
   "metadata": {},
   "outputs": [
    {
     "ename": "ImportError",
     "evalue": "cannot import name 'my_fun' from 'libTstCLV' (c:\\users\\migue\\documents\\proyectos data science\\clv\\python\\libTstCLV\\__init__.py)",
     "output_type": "error",
     "traceback": [
      "\u001b[1;31m---------------------------------------------------------------------------\u001b[0m",
      "\u001b[1;31mImportError\u001b[0m                               Traceback (most recent call last)",
      "Cell \u001b[1;32mIn[4], line 1\u001b[0m\n\u001b[1;32m----> 1\u001b[0m \u001b[39mfrom\u001b[39;00m \u001b[39mlibTstCLV\u001b[39;00m \u001b[39mimport\u001b[39;00m my_fun\n",
      "\u001b[1;31mImportError\u001b[0m: cannot import name 'my_fun' from 'libTstCLV' (c:\\users\\migue\\documents\\proyectos data science\\clv\\python\\libTstCLV\\__init__.py)"
     ]
    }
   ],
   "source": [
    "from libTstCLV import my_fun"
   ]
  },
  {
   "cell_type": "code",
   "execution_count": null,
   "metadata": {},
   "outputs": [],
   "source": []
  }
 ],
 "metadata": {
  "kernelspec": {
   "display_name": "tst_lifetimes",
   "language": "python",
   "name": "python3"
  },
  "language_info": {
   "codemirror_mode": {
    "name": "ipython",
    "version": 3
   },
   "file_extension": ".py",
   "mimetype": "text/x-python",
   "name": "python",
   "nbconvert_exporter": "python",
   "pygments_lexer": "ipython3",
   "version": "3.9.13"
  },
  "orig_nbformat": 4,
  "vscode": {
   "interpreter": {
    "hash": "2d7417d146ca5774448481cc87a8db01627732f1f438b9cc6a0e70bb5f259812"
   }
  }
 },
 "nbformat": 4,
 "nbformat_minor": 2
}
